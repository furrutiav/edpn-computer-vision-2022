{
 "cells": [
  {
   "cell_type": "code",
   "execution_count": 29,
   "metadata": {},
   "outputs": [],
   "source": [
    "import numpy as np\n",
    "from scipy.sparse import diags, kron, csr_matrix, csc_matrix, identity, block_diag\n",
    "from scipy.sparse.linalg import spsolve, norm, inv, eigsh, eigs\n",
    "import matplotlib.pyplot as plt\n",
    "from matplotlib import rc\n",
    "import pandas as pd\n",
    "import seaborn as sns\n",
    "rc('text', usetex=True) # para usar latex en matplotlib"
   ]
  },
  {
   "cell_type": "code",
   "execution_count": 201,
   "metadata": {},
   "outputs": [],
   "source": [
    "def A(un, domain, dim):\n",
    "    \n",
    "    a = lambda x: 1\n",
    "    b = lambda x: 1\n",
    "    kappa = 1\n",
    "    \n",
    "    cache_norm_grad = {}\n",
    "    def norm_grad(un, p):\n",
    "        ix = domain.index(p)\n",
    "        if ix not in cache_norm_grad.keys():\n",
    "            cache_norm_grad[ix] = 1\n",
    "        return cache_norm_grad[ix]\n",
    "    \n",
    "    cache_harmonic_mean = {}\n",
    "    def harmonic_mean(un, p, m):\n",
    "        ix = domain.index(p)\n",
    "        jx = domain.index(m)\n",
    "        if (ix, jx) not in cache_harmonic_mean.keys():\n",
    "            cache_harmonic_mean[(ix, jx)] = 1\n",
    "        return cache_harmonic_mean[(ix, jx)]\n",
    "        \n",
    "    \n",
    "    def neighbours(p, l=\"x\"):\n",
    "        px, py = p\n",
    "        \n",
    "        if l == \"x\":\n",
    "            o = [ (px, py-1), (px, py+1) ]\n",
    "            \n",
    "        elif l == \"y\":\n",
    "            o = [ (px-1, py), (px+1, py) ]\n",
    "            \n",
    "        return [m  for m in o if m in domain]\n",
    "    \n",
    "    def get_sigma(p):\n",
    "        sum_N = sum( harmonic_mean(un, p, m) for m in neighbours(p, l=\"x\") + neighbours(p, l=\"y\") )\n",
    "        return - a(p) * norm_grad(un, p) * sum_N\n",
    "    \n",
    "    def get_delta(p, m):\n",
    "        return - a(p) * norm_grad(un, p) * harmonic_mean(un, p, m)\n",
    "    \n",
    "    def coord_to_ix(p):\n",
    "        return domain.index(p)\n",
    "    \n",
    "    def get_A_row(row):\n",
    "        px = row\n",
    "        \n",
    "        D = [ get_sigma( (px, c) ) for c in range( dim[1] ) ]                 # 0,1,...,c-2,c-1\n",
    "        D1 = [ get_delta( (px, c), (px, c+1) ) for c in range( dim[1] - 1 ) ] # 0,1,...,c-2\n",
    "        D_1 = [ get_delta( (px, c), (px, c-1) )  for c in range(1, dim[1] ) ] #   1,...,c-2,c-1\n",
    "    \n",
    "        \n",
    "        k = np.array([D_1, D, D1], dtype= object)\n",
    "        offset = [-1, 0, 1]\n",
    "        \n",
    "        return diags(k, offset)\n",
    "    \n",
    "    def get_A_star_row(row, star):\n",
    "        px = row\n",
    "        \n",
    "        D = [ get_delta( (px, c), (px+star, c) ) for c in range( dim[1] ) ]\n",
    "        \n",
    "        k = D\n",
    "        offset = 0\n",
    "        \n",
    "        return diags(k, offset)\n",
    "    \n",
    "    D = [ get_A_row(row) for row in range( dim[0] ) ]                                                     # 0,1,...,c-2,c-1\n",
    "    D1 =  [csr_matrix(np.zeros((dim[1], dim[1])))] + [ get_A_star_row(row, star=1) for row in range( dim[0] - 1 ) ] + [csr_matrix(np.zeros((dim[1], dim[1])))] # 0,1,...,c-2\n",
    "    D_1 = [csr_matrix(np.zeros((dim[1], dim[1])))] + [ get_A_star_row(row, star=-1) for row in range(1, dim[0] ) ] + [csr_matrix(np.zeros((dim[1], dim[1])))]  #   1,...,c-2,c-1\n",
    "\n",
    "    A0 = block_diag(D)\n",
    "    A1 = csr_matrix(block_diag(D1).todense()[dim[1]:,:-dim[1]])\n",
    "    A2 = csr_matrix(block_diag(D1).todense()[:-dim[1],dim[1]:])\n",
    "\n",
    "    return csr_matrix(A0+A1+A2)\n",
    "    "
   ]
  },
  {
   "cell_type": "code",
   "execution_count": 217,
   "metadata": {},
   "outputs": [
    {
     "data": {
      "text/plain": [
       "<matplotlib.image.AxesImage at 0x2477ced0c70>"
      ]
     },
     "execution_count": 217,
     "metadata": {},
     "output_type": "execute_result"
    },
    {
     "data": {
      "image/png": "[encoded data removed]",
      "text/plain": [
       "<Figure size 432x288 with 1 Axes>"
      ]
     },
     "metadata": {
      "needs_background": "light"
     },
     "output_type": "display_data"
    }
   ],
   "source": [
    "dim = (8, 8)\n",
    "domain = [ \n",
    "    (x, y) for x in range( dim[0] ) for y in range( dim[1] )\n",
    "]\n",
    "\n",
    "un = np.zeros(dim[0] * dim[1])\n",
    "plt.imshow(A(un, domain, dim).todense())"
   ]
  }
 ],
 "metadata": {
  "kernelspec": {
   "display_name": "Python 3",
   "language": "python",
   "name": "python3"
  },
  "language_info": {
   "codemirror_mode": {
    "name": "ipython",
    "version": 3
   },
   "file_extension": ".py",
   "mimetype": "text/x-python",
   "name": "python",
   "nbconvert_exporter": "python",
   "pygments_lexer": "ipython3",
   "version": "3.8.12"
  }
 },
 "nbformat": 4,
 "nbformat_minor": 4
}
