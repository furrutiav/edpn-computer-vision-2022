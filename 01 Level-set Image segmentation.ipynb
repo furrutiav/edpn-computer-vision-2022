{
 "cells": [
  {
   "cell_type": "code",
   "execution_count": 216,
   "metadata": {},
   "outputs": [],
   "source": [
    "import numpy as np\n",
    "from scipy.sparse import diags, kron, csr_matrix, csc_matrix, identity, block_diag\n",
    "from scipy.sparse.linalg import spsolve, norm, inv, eigsh, eigs\n",
    "from numpy import linalg\n",
    "import matplotlib.pyplot as plt\n",
    "from matplotlib import rc\n",
    "import pandas as pd\n",
    "import seaborn as sns\n",
    "rc('text', usetex=True) # para usar latex en matplotlib"
   ]
  },
  {
   "cell_type": "code",
   "execution_count": 146,
   "metadata": {},
   "outputs": [],
   "source": [
    "def A(un, a, b, domain, dim):\n",
    "    kappa = 0\n",
    "    \n",
    "    cache_norm_grad = {}\n",
    "    def norm_grad(un, p):\n",
    "        ix = domain.index(p)\n",
    "        if ix not in cache_norm_grad.keys():\n",
    "            dx = 0\n",
    "            dy = 0\n",
    "            if p[1]<dim[1]-1:\n",
    "                kx = domain.index((p[0], p[1]+1))\n",
    "                dx = un[kx]-un[ix]\n",
    "            if p[0]<dim[0]-1:\n",
    "                kx = domain.index((p[0]+1, p[1]))\n",
    "                dy = un[kx]-un[ix]\n",
    "                \n",
    "            val = np.sqrt( dx**2 + dy**2 )  \n",
    "            cache_norm_grad[ix] = val\n",
    "        return cache_norm_grad[ix]\n",
    "    \n",
    "    cache_harmonic_mean = {}\n",
    "    def harmonic_mean(un, p, m):\n",
    "        ix = domain.index(p)\n",
    "        jx = domain.index(m)\n",
    "        if (ix, jx) not in cache_harmonic_mean.keys():\n",
    "            cache_harmonic_mean[(ix, jx)] = 2 / ( (norm_grad(un, p)/b[ix]) + (norm_grad(un, m)/b[jx]) )\n",
    "        return cache_harmonic_mean[(ix, jx)]\n",
    "        \n",
    "    \n",
    "    def neighbours(p, l=\"x\"):\n",
    "        px, py = p\n",
    "        \n",
    "        if l == \"x\":\n",
    "            o = [ (px, py-1), (px, py+1) ]\n",
    "            \n",
    "        elif l == \"y\":\n",
    "            o = [ (px-1, py), (px+1, py) ]\n",
    "            \n",
    "        return [m  for m in o if m in domain]\n",
    "    \n",
    "    def get_sigma(p):\n",
    "        norm_grad_p = norm_grad(un, p)\n",
    "        ix = domain.index(p)\n",
    "        if np.isclose(norm_grad_p, 0):\n",
    "            return 0\n",
    "        else:\n",
    "            sum_N = sum( harmonic_mean(un, p, m) for m in neighbours(p, l=\"x\") + neighbours(p, l=\"y\") )\n",
    "            return - a[ix] * norm_grad_p * sum_N\n",
    "    \n",
    "    def get_delta(p, m):\n",
    "        norm_grad_p = norm_grad(un, p)\n",
    "        ix = domain.index(p)\n",
    "        if np.isclose(norm_grad_p, 0):\n",
    "            return 0\n",
    "        else:\n",
    "            return - a[ix] * norm_grad_p * harmonic_mean(un, p, m)\n",
    "    \n",
    "    def get_A_row(row):\n",
    "        px = row\n",
    "        \n",
    "        D = [ get_sigma( (px, c) ) for c in range( dim[1] ) ]                 # 0,1,...,c-2,c-1\n",
    "        D1 = [ get_delta( (px, c), (px, c+1) ) for c in range( dim[1] - 1 ) ] # 0,1,...,c-2\n",
    "        D_1 = [ get_delta( (px, c), (px, c-1) )  for c in range(1, dim[1] ) ] #   1,...,c-2,c-1\n",
    "    \n",
    "        \n",
    "        k = np.array([D_1, D, D1], dtype= object)\n",
    "        offset = [-1, 0, 1]\n",
    "        \n",
    "        return diags(k, offset)\n",
    "    \n",
    "    def get_A_star_row(row, star):\n",
    "        px = row\n",
    "        \n",
    "        D = [ get_delta( (px, c), (px+star, c) ) for c in range( dim[1] ) ]\n",
    "        \n",
    "        k = D\n",
    "        offset = 0\n",
    "        \n",
    "        return diags(k, offset)\n",
    "    \n",
    "    D = [ get_A_row(row) for row in range( dim[0] ) ]                                                     # 0,1,...,c-2,c-1\n",
    "    D1 =  [csr_matrix(np.zeros((dim[1], dim[1])))] + [ get_A_star_row(row, star=1) for row in range( dim[0] - 1 ) ] + [csr_matrix(np.zeros((dim[1], dim[1])))] # 0,1,...,c-2\n",
    "    D_1 = [csr_matrix(np.zeros((dim[1], dim[1])))] + [ get_A_star_row(row, star=-1) for row in range(1, dim[0] ) ] + [csr_matrix(np.zeros((dim[1], dim[1])))]  #   1,...,c-2,c-1\n",
    "\n",
    "    A0 = block_diag(D)\n",
    "    A1 = csr_matrix(block_diag(D1).todense()[dim[1]:,:-dim[1]])\n",
    "    A2 = csr_matrix(block_diag(D_1).todense()[:-dim[1],dim[1]:])\n",
    "\n",
    "    return csr_matrix(A0+A1+A2)\n",
    "    "
   ]
  },
  {
   "cell_type": "code",
   "execution_count": 215,
   "metadata": {},
   "outputs": [
    {
     "data": {
      "text/plain": [
       "<matplotlib.image.AxesImage at 0x1d43fd1b3a0>"
      ]
     },
     "metadata": {},
     "output_type": "display_data"
    },
    {
     "data": {
      "image/png": "[encoded data removed]",
      "text/plain": [
       "<Figure size 432x288 with 1 Axes>"
      ]
     },
     "metadata": {
      "needs_background": "light"
     },
     "output_type": "display_data"
    }
   ],
   "source": [
    "dim = (30, 30)\n",
    "domain = [ \n",
    "    (x, y) for x in range( dim[0] ) for y in range( dim[1] )\n",
    "]\n",
    "\n",
    "img = np.random.normal(0.4, 0.005, size=dim[0] * dim[1])\n",
    "for i in range(dim[0]//2+5):\n",
    "    img[dim[0]*(i+5)+5:dim[0]*(i+6)-5] += np.random.normal(0.1, 0.005)\n",
    "\n",
    "a = np.ones(dim[0] * dim[1])\n",
    "b = np.ones(dim[0] * dim[1])\n",
    "\n",
    "display(plt.imshow(img.reshape(dim[0], dim[1])))"
   ]
  },
  {
   "cell_type": "code",
   "execution_count": 383,
   "metadata": {},
   "outputs": [],
   "source": [
    "def level_set(x0, r, domain, dim):\n",
    "    u0 = np.zeros(len(domain))\n",
    "    for p in domain:\n",
    "        x = (p[0]/(dim[0]-1), p[1]/(dim[1]-1))\n",
    "        sgn = 0\n",
    "        if (x[0]-x0[0]) ** 2 + (x[1]-x0[1]) ** 2 < r ** 2:\n",
    "            sgn = 1\n",
    "        else:\n",
    "            sgn = -1\n",
    "        dist = abs(r-linalg.norm([x[0]-x0[0], x[1]-x0[1]]))\n",
    "        ix = domain.index(p)\n",
    "        u0[ix] = sgn * dist\n",
    "    return u0"
   ]
  },
  {
   "cell_type": "code",
   "execution_count": 384,
   "metadata": {},
   "outputs": [
    {
     "data": {
      "text/plain": [
       "<matplotlib.colorbar.Colorbar at 0x1d438321df0>"
      ]
     },
     "execution_count": 384,
     "metadata": {},
     "output_type": "execute_result"
    },
    {
     "data": {
      "image/png": "[encoded data removed]",
      "text/plain": [
       "<Figure size 432x288 with 2 Axes>"
      ]
     },
     "metadata": {
      "needs_background": "light"
     },
     "output_type": "display_data"
    }
   ],
   "source": [
    "u0 = level_set((0.5, 0.5), 0.3, domain, dim)\n",
    "plt.imshow(u0.reshape(dim[0], dim[1]))\n",
    "plt.colorbar()"
   ]
  },
  {
   "cell_type": "code",
   "execution_count": 385,
   "metadata": {},
   "outputs": [
    {
     "data": {
      "text/plain": [
       "<matplotlib.image.AxesImage at 0x1d43fac7880>"
      ]
     },
     "metadata": {},
     "output_type": "display_data"
    },
    {
     "data": {
      "image/png": "[encoded data removed]",
      "text/plain": [
       "<Figure size 432x288 with 1 Axes>"
      ]
     },
     "metadata": {
      "needs_background": "light"
     },
     "output_type": "display_data"
    }
   ],
   "source": [
    "A0 = A(u0, a, b, domain, dim)\n",
    "display(plt.imshow(An.todense()))"
   ]
  },
  {
   "cell_type": "code",
   "execution_count": 234,
   "metadata": {},
   "outputs": [],
   "source": [
    "def A_tilde(un, a, b, domain, dim, tau):\n",
    "    An = A(un, a, b, domain, dim)\n",
    "    print(un.shape)\n",
    "    I = csr_matrix(np.eye(un.shape[0]))\n",
    "    return I - tau * An"
   ]
  },
  {
   "cell_type": "code",
   "execution_count": 386,
   "metadata": {},
   "outputs": [
    {
     "name": "stdout",
     "output_type": "stream",
     "text": [
      "(900,)\n"
     ]
    },
    {
     "data": {
      "text/plain": [
       "<matplotlib.image.AxesImage at 0x1d43f7b1370>"
      ]
     },
     "metadata": {},
     "output_type": "display_data"
    },
    {
     "data": {
      "image/png": "[encoded data removed]",
      "text/plain": [
       "<Figure size 432x288 with 1 Axes>"
      ]
     },
     "metadata": {
      "needs_background": "light"
     },
     "output_type": "display_data"
    }
   ],
   "source": [
    "tau = 0.1\n",
    "A0_tilde = A_tilde(u0, a, b, domain, dim, tau)\n",
    "display(plt.imshow(A0_tilde.todense()))"
   ]
  },
  {
   "cell_type": "code",
   "execution_count": 406,
   "metadata": {},
   "outputs": [],
   "source": [
    "un = u0"
   ]
  },
  {
   "cell_type": "code",
   "execution_count": 409,
   "metadata": {},
   "outputs": [
    {
     "name": "stdout",
     "output_type": "stream",
     "text": [
      "(900,)\n"
     ]
    },
    {
     "data": {
      "image/png": "[encoded data removed]",
      "text/plain": [
       "<Figure size 432x288 with 2 Axes>"
      ]
     },
     "metadata": {
      "needs_background": "light"
     },
     "output_type": "display_data"
    }
   ],
   "source": [
    "An_tilde = A_tilde(un, a, b, domain, dim, tau)\n",
    "un1 = spsolve(An_tilde, un)\n",
    "# un1[(un1<0.01) & (un1>-0.01)] = 1\n",
    "plt.imshow(un1.reshape(dim[0], dim[1])[1:-1, 1:-1])\n",
    "plt.colorbar()\n",
    "un = un1"
   ]
  }
 ],
 "metadata": {
  "kernelspec": {
   "display_name": "Python 3",
   "language": "python",
   "name": "python3"
  },
  "language_info": {
   "codemirror_mode": {
    "name": "ipython",
    "version": 3
   },
   "file_extension": ".py",
   "mimetype": "text/x-python",
   "name": "python",
   "nbconvert_exporter": "python",
   "pygments_lexer": "ipython3",
   "version": "3.8.12"
  }
 },
 "nbformat": 4,
 "nbformat_minor": 4
}
